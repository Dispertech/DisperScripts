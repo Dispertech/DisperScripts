{
 "cells": [
  {
   "cell_type": "code",
   "execution_count": 1,
   "metadata": {},
   "outputs": [],
   "source": [
    "import sys\n",
    "import os\n",
    "sys.path.append(os.path.join('D:\\\\', 'Documents', 'Programs', 'DisperScripts'))"
   ]
  },
  {
   "cell_type": "code",
   "execution_count": 2,
   "metadata": {},
   "outputs": [],
   "source": [
    "from experimentor.models.devices.cameras.basler.basler import BaslerCamera\n",
    "import zmq\n",
    "from multiprocessing import Event\n",
    "from threading import Thread\n",
    "import time\n",
    "import numpy as np\n",
    "from calibration.models.experiment import CalibrationSetup\n",
    "from experimentor import Q_\n",
    "\n",
    "from pypylon import pylon, _genicam"
   ]
  },
  {
   "cell_type": "code",
   "execution_count": null,
   "metadata": {},
   "outputs": [],
   "source": [
    "stop_event = Event()"
   ]
  },
  {
   "cell_type": "code",
   "execution_count": null,
   "metadata": {},
   "outputs": [],
   "source": [
    "cam = BaslerCamera('ac')"
   ]
  },
  {
   "cell_type": "code",
   "execution_count": null,
   "metadata": {},
   "outputs": [],
   "source": [
    "cam.initialize()"
   ]
  },
  {
   "cell_type": "code",
   "execution_count": null,
   "metadata": {},
   "outputs": [],
   "source": [
    "cam.exposure = Q_('50ms')"
   ]
  },
  {
   "cell_type": "code",
   "execution_count": null,
   "metadata": {},
   "outputs": [],
   "source": [
    "def print_number_frames(stop_event, url):\n",
    "    topic = 'new_image'\n",
    "    frame_no = 0\n",
    "    context = zmq.Context()\n",
    "    socket = context.socket(zmq.SUB)\n",
    "    socket.connect(url)\n",
    "    socket.setsockopt(zmq.SUBSCRIBE, topic.encode('utf-8'))\n",
    "    img_old = None\n",
    "    while not stop_event.is_set():\n",
    "        event = socket.poll(0)\n",
    "        if not event:\n",
    "            time.sleep(.005)\n",
    "            continue\n",
    "        topic = socket.recv_string()\n",
    "        metadata = socket.recv_json(flags=0)\n",
    "        msg = socket.recv(flags=0, copy=True, track=False)\n",
    "        buf = memoryview(msg)\n",
    "        if img_old is None:\n",
    "            img_old = np.zeros(metadata['shape'])\n",
    "        img = np.frombuffer(buf, dtype=metadata['dtype'])\n",
    "        img = img.reshape(metadata['shape']).copy()\n",
    "        if np.all(img == img_old):\n",
    "            break\n",
    "        imd_old = img.copy()\n",
    "        frame_no+=1\n",
    "        if frame_no%100 == 0:\n",
    "            print(f'Acquired {frame_no} frames')\n",
    "    print(f'Acquired {frame_no} before getting repeated frames')"
   ]
  },
  {
   "cell_type": "code",
   "execution_count": null,
   "metadata": {},
   "outputs": [],
   "source": [
    "url = cam.get_publisher_url()\n",
    "port = cam.get_publisher_port()"
   ]
  },
  {
   "cell_type": "code",
   "execution_count": null,
   "metadata": {},
   "outputs": [],
   "source": [
    "print(f'{url}:{port}')"
   ]
  },
  {
   "cell_type": "code",
   "execution_count": null,
   "metadata": {},
   "outputs": [],
   "source": [
    "thread = Thread(target=print_number_frames, args=(stop_event, f'{url}:{port}'))\n",
    "thread.start()"
   ]
  },
  {
   "cell_type": "code",
   "execution_count": null,
   "metadata": {},
   "outputs": [],
   "source": [
    "cam.start_free_run()"
   ]
  },
  {
   "cell_type": "code",
   "execution_count": null,
   "metadata": {},
   "outputs": [],
   "source": [
    "cam.continuous_reads()"
   ]
  },
  {
   "cell_type": "code",
   "execution_count": null,
   "metadata": {},
   "outputs": [],
   "source": [
    "cam.stop_continuous_reads()"
   ]
  },
  {
   "cell_type": "code",
   "execution_count": null,
   "metadata": {},
   "outputs": [],
   "source": [
    "stop_event.set()"
   ]
  },
  {
   "cell_type": "code",
   "execution_count": null,
   "metadata": {},
   "outputs": [],
   "source": [
    "stop_event.clear()"
   ]
  },
  {
   "cell_type": "code",
   "execution_count": null,
   "metadata": {},
   "outputs": [],
   "source": [
    "cam.finalize()"
   ]
  },
  {
   "cell_type": "code",
   "execution_count": 3,
   "metadata": {},
   "outputs": [],
   "source": [
    "import yaml"
   ]
  },
  {
   "cell_type": "code",
   "execution_count": 4,
   "metadata": {},
   "outputs": [],
   "source": [
    "experiment = CalibrationSetup()"
   ]
  },
  {
   "cell_type": "code",
   "execution_count": 5,
   "metadata": {},
   "outputs": [],
   "source": [
    "experiment.load_configuration('../dispertech.yml', yaml.UnsafeLoader)"
   ]
  },
  {
   "cell_type": "code",
   "execution_count": 6,
   "metadata": {},
   "outputs": [
    {
     "name": "stderr",
     "output_type": "stream",
     "text": [
      "binning from Camera Basler daA1280-54um (22487161) not Implemented\n",
      "serial_number from Camera Basler daA1280-54um (22487161) not Implemented\n",
      "binning from Camera Basler daA1280-54um (22487161) not Implemented\n",
      "binning from Camera Basler acA1920-155um (22161031) not Implemented\n",
      "serial_number from Camera Basler acA1920-155um (22161031) not Implemented\n"
     ]
    }
   ],
   "source": [
    "future = experiment.initialize()\n",
    "while future.running():\n",
    "    continue"
   ]
  },
  {
   "cell_type": "code",
   "execution_count": 7,
   "metadata": {},
   "outputs": [
    {
     "data": {
      "text/plain": [
       "array([[0, 0, 0, ..., 0, 0, 0],\n",
       "       [0, 0, 0, ..., 0, 1, 0],\n",
       "       [0, 0, 0, ..., 0, 0, 0],\n",
       "       ...,\n",
       "       [0, 0, 1, ..., 0, 0, 0],\n",
       "       [0, 0, 0, ..., 0, 0, 0],\n",
       "       [0, 0, 0, ..., 0, 0, 0]], dtype=uint8)"
      ]
     },
     "execution_count": 7,
     "metadata": {},
     "output_type": "execute_result"
    }
   ],
   "source": [
    "experiment.get_latest_image('microscope_camera')"
   ]
  },
  {
   "cell_type": "code",
   "execution_count": 8,
   "metadata": {},
   "outputs": [
    {
     "name": "stdout",
     "output_type": "stream",
     "text": [
      "tcp://localhost:54037\n"
     ]
    }
   ],
   "source": [
    "experiment.start_saving_images()"
   ]
  },
  {
   "cell_type": "code",
   "execution_count": 9,
   "metadata": {},
   "outputs": [
    {
     "name": "stderr",
     "output_type": "stream",
     "text": [
      "Saving process still alive\n"
     ]
    }
   ],
   "source": [
    "experiment.stop_saving_images()"
   ]
  },
  {
   "cell_type": "code",
   "execution_count": 10,
   "metadata": {},
   "outputs": [],
   "source": [
    "experiment.finalize()"
   ]
  },
  {
   "cell_type": "code",
   "execution_count": null,
   "metadata": {},
   "outputs": [],
   "source": []
  }
 ],
 "metadata": {
  "kernelspec": {
   "display_name": "Python 3",
   "language": "python",
   "name": "python3"
  },
  "language_info": {
   "codemirror_mode": {
    "name": "ipython",
    "version": 3
   },
   "file_extension": ".py",
   "mimetype": "text/x-python",
   "name": "python",
   "nbconvert_exporter": "python",
   "pygments_lexer": "ipython3",
   "version": "3.8.5"
  }
 },
 "nbformat": 4,
 "nbformat_minor": 4
}
