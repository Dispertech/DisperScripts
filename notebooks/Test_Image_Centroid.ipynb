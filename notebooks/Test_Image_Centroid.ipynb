{
 "cells": [
  {
   "cell_type": "markdown",
   "metadata": {},
   "source": [
    "# Test alignment procedure\n",
    "This file is used to test the alignment procedure using the center of the fiber core as a reference and the reflected laser beam."
   ]
  },
  {
   "cell_type": "code",
   "execution_count": 1,
   "metadata": {},
   "outputs": [],
   "source": [
    "import os\n",
    "from time import sleep\n",
    "import numpy as np\n",
    "\n",
    "import matplotlib.pyplot as plt\n",
    "from matplotlib.patches import Circle\n",
    "import cv2\n",
    "\n",
    "import matplotlib\n",
    "\n",
    "matplotlib.rc('figure', figsize=(15, 10))\n",
    "\n",
    "DATA_DIR = \"/home/aquiles/Data/Dispertech\""
   ]
  },
  {
   "cell_type": "code",
   "execution_count": 2,
   "metadata": {},
   "outputs": [
    {
     "ename": "ModuleNotFoundError",
     "evalue": "No module named 'pypylon'",
     "output_type": "error",
     "traceback": [
      "\u001b[0;31m---------------------------------------------------------------------------\u001b[0m",
      "\u001b[0;31mModuleNotFoundError\u001b[0m                       Traceback (most recent call last)",
      "\u001b[0;32m<ipython-input-2-5a9f2f118063>\u001b[0m in \u001b[0;36m<module>\u001b[0;34m\u001b[0m\n\u001b[1;32m      1\u001b[0m \u001b[0;32mfrom\u001b[0m \u001b[0mdispertech\u001b[0m\u001b[0;34m.\u001b[0m\u001b[0mmodels\u001b[0m\u001b[0;34m.\u001b[0m\u001b[0melectronics\u001b[0m\u001b[0;34m.\u001b[0m\u001b[0marduino\u001b[0m \u001b[0;32mimport\u001b[0m \u001b[0mArduinoModel\u001b[0m\u001b[0;34m\u001b[0m\u001b[0;34m\u001b[0m\u001b[0m\n\u001b[0;32m----> 2\u001b[0;31m \u001b[0;32mfrom\u001b[0m \u001b[0mdispertech\u001b[0m\u001b[0;34m.\u001b[0m\u001b[0mmodels\u001b[0m\u001b[0;34m.\u001b[0m\u001b[0mcameras\u001b[0m\u001b[0;34m.\u001b[0m\u001b[0mbasler\u001b[0m \u001b[0;32mimport\u001b[0m \u001b[0mCamera\u001b[0m\u001b[0;34m\u001b[0m\u001b[0;34m\u001b[0m\u001b[0m\n\u001b[0m\u001b[1;32m      3\u001b[0m \u001b[0;32mfrom\u001b[0m \u001b[0mexperimentor\u001b[0m \u001b[0;32mimport\u001b[0m \u001b[0mQ_\u001b[0m\u001b[0;34m\u001b[0m\u001b[0;34m\u001b[0m\u001b[0m\n\u001b[1;32m      4\u001b[0m \u001b[0;32mfrom\u001b[0m \u001b[0mexperimentor\u001b[0m\u001b[0;34m.\u001b[0m\u001b[0mmodels\u001b[0m\u001b[0;34m.\u001b[0m\u001b[0mdecorators\u001b[0m \u001b[0;32mimport\u001b[0m \u001b[0mmake_async_thread\u001b[0m\u001b[0;34m\u001b[0m\u001b[0;34m\u001b[0m\u001b[0m\n",
      "\u001b[0;32m~/Documents/Programs/Dispertech/dispertech/models/cameras/basler.py\u001b[0m in \u001b[0;36m<module>\u001b[0;34m\u001b[0m\n\u001b[1;32m     22\u001b[0m \u001b[0;34m\u001b[0m\u001b[0m\n\u001b[1;32m     23\u001b[0m \u001b[0;32mimport\u001b[0m \u001b[0mnumpy\u001b[0m \u001b[0;32mas\u001b[0m \u001b[0mnp\u001b[0m\u001b[0;34m\u001b[0m\u001b[0;34m\u001b[0m\u001b[0m\n\u001b[0;32m---> 24\u001b[0;31m \u001b[0;32mfrom\u001b[0m \u001b[0mpypylon\u001b[0m \u001b[0;32mimport\u001b[0m \u001b[0mpylon\u001b[0m\u001b[0;34m\u001b[0m\u001b[0;34m\u001b[0m\u001b[0m\n\u001b[0m\u001b[1;32m     25\u001b[0m \u001b[0;34m\u001b[0m\u001b[0m\n\u001b[1;32m     26\u001b[0m \u001b[0;32mfrom\u001b[0m \u001b[0mexperimentor\u001b[0m\u001b[0;34m.\u001b[0m\u001b[0mmodels\u001b[0m\u001b[0;34m.\u001b[0m\u001b[0mcameras\u001b[0m\u001b[0;34m.\u001b[0m\u001b[0mbase_camera\u001b[0m \u001b[0;32mimport\u001b[0m \u001b[0mBaseCamera\u001b[0m\u001b[0;34m\u001b[0m\u001b[0;34m\u001b[0m\u001b[0m\n",
      "\u001b[0;31mModuleNotFoundError\u001b[0m: No module named 'pypylon'"
     ]
    }
   ],
   "source": [
    "from dispertech.models.electronics.arduino import ArduinoModel\n",
    "from dispertech.models.cameras.basler import Camera\n",
    "from experimentor import Q_\n",
    "from experimentor.models.decorators import make_async_thread"
   ]
  },
  {
   "cell_type": "code",
   "execution_count": null,
   "metadata": {},
   "outputs": [],
   "source": [
    "ard = ArduinoModel(0)\n",
    "ard.initialize()\n",
    "ard.laser_power(100)"
   ]
  },
  {
   "cell_type": "code",
   "execution_count": null,
   "metadata": {},
   "outputs": [],
   "source": [
    "cam = Camera('da')\n",
    "cam.initialize()"
   ]
  },
  {
   "cell_type": "code",
   "execution_count": null,
   "metadata": {},
   "outputs": [],
   "source": [
    "# ard.move_mirror(0, 0, 2)\n",
    "ard.laser_power(30)\n",
    "cam.set_exposure(Q_('.01ms'))\n",
    "cam.trigger_camera()\n",
    "img = cam.read_camera()[0]\n",
    "mask = img>np.mean(img.reshape(img.size,1))+np.std(img.reshape(img.size,1))\n",
    "test_img = mask*np.ones(img.shape, dtype=np.uint8)*2**8\n",
    "M = cv2.moments(test_img)\n",
    "cx = M['m10']/M['m00']\n",
    "cy = M[\"m01\"] / M[\"m00\"]\n",
    "print(cx, cy)\n",
    "fig, ax = plt.subplots(1)\n",
    "ax.imshow(mask.T*img.T)\n",
    "circ = Circle((cy, cx), radius=15,color='red')\n",
    "ax.add_patch(circ)"
   ]
  },
  {
   "cell_type": "code",
   "execution_count": null,
   "metadata": {},
   "outputs": [],
   "source": [
    "def acquire_from_camera(data, folder):\n",
    "    if not os.path.isdir(os.path.join(data_folder, 'image_data', folder)):\n",
    "        os.makedirs(os.path.join(data_folder, 'image_data', folder))\n",
    "    for i in range(accumulations_per_position+1):\n",
    "        cam.trigger_camera()\n",
    "        img = cam.read_camera()[0]\n",
    "        if i==0: continue\n",
    "        mask = img>np.mean(img.reshape(img.size,1))+np.std(img.reshape(img.size,1))\n",
    "        M = cv2.moments(mask*img)\n",
    "        cx = M['m10']/M['m00']\n",
    "        cy = M[\"m01\"] / M[\"m00\"]\n",
    "        data[-1][0].append(cx)\n",
    "        data[-1][1].append(cy)\n",
    "    np.save(os.path.join(data_folder, 'image_data', folder, f'img_{i}'), img)"
   ]
  },
  {
   "cell_type": "code",
   "execution_count": null,
   "metadata": {},
   "outputs": [],
   "source": [
    "def make_plots(data, folder):\n",
    "    fig, ax = plt.subplots(nrows=1, ncols=2)\n",
    "\n",
    "    dt = np.array(data)\n",
    "    C = np.zeros((2,len(data)))\n",
    "    for i in range(len(data)):\n",
    "        ax[0].plot(data[i][0],data[i][1], 'o')\n",
    "        C[0][i] = np.mean(data[i][0])\n",
    "        C[1][i] = np.mean(data[i][1])\n",
    "\n",
    "    ax[1].plot(C[0,:],C[1][:], '.-')\n",
    "    ax[0].set_aspect('equal')\n",
    "    ax[1].set_aspect('equal')\n",
    "    fig.suptitle(f'Speed: {speed}, Exposure Time {exposure_time:~}, Laser Power: {power}', fontsize=16)\n",
    "    ax[0].set_title(f'Calculated centroid for {accumulations_per_position} acquisition')\n",
    "    ax[0].set(xlabel='Centroid position (px)', ylabel='Centroid position (px)')\n",
    "    ax[1].set_title('Averaged centroid')\n",
    "    ax[1].set(xlabel='Centroid position (px)', ylabel='Centroid position (px)')\n",
    "\n",
    "    plt.savefig(os.path.join(folder, f'centroids_speed_{speed}.png'))\n",
    "    plt.close()"
   ]
  },
  {
   "cell_type": "code",
   "execution_count": null,
   "metadata": {},
   "outputs": [],
   "source": [
    "speeds = [1, ]\n",
    "laser_powers = [10,]\n",
    "max_data_points = 200\n",
    "accumulations_per_position = 25\n",
    "exposure_time = Q_('1ms')\n",
    "\n",
    "cam.set_exposure(exposure_time)\n",
    "for power in laser_powers:\n",
    "    data_folder = os.path.join(DATA_DIR, '{:~}'.format(exposure_time), f'laser_power_{power}')\n",
    "    if not os.path.isdir(data_folder):\n",
    "        os.makedirs(data_folder)\n",
    "        os.makedirs(os.path.join(data_folder, 'image_data'))\n",
    "    ard.laser_power(power)\n",
    "    for speed in speeds:\n",
    "        print(f'Acquiring: laser power: {power} - mirror speed: {speed}' )\n",
    "        data = []\n",
    "        for i in range(max_data_points):\n",
    "            data.append(([],[]))\n",
    "            acquire_from_camera(data, f'{speed}_12_{i}')\n",
    "            ard.move_mirror(speed, 1, 2)\n",
    "        make_plots(data, data_folder)\n",
    "        for i in range(max_data_points):\n",
    "            data.append(([],[]))\n",
    "            acquire_from_camera(data, f'{speed}_11_{i}')\n",
    "            ard.move_mirror(speed, 1, 1)\n",
    "        make_plots(data, data_folder)\n",
    "        for i in range(max_data_points):\n",
    "            data.append(([],[]))\n",
    "            acquire_from_camera(data, f'{speed}_02_{i}')\n",
    "            ard.move_mirror(speed, 0, 2)\n",
    "        make_plots(data, data_folder)\n",
    "        for i in range(max_data_points):\n",
    "            data.append(([],[]))\n",
    "            acquire_from_camera(data, f'{speed}_01_{i}')\n",
    "            ard.move_mirror(speed, 0, 1)\n",
    "        make_plots(data, data_folder)"
   ]
  },
  {
   "cell_type": "code",
   "execution_count": null,
   "metadata": {},
   "outputs": [],
   "source": [
    "test_img = mask*np.ones(img.shape, dtype=np.uint8)*2**8\n",
    "circles = cv2.HoughCircles(test_img,cv2.HOUGH_GRADIENT,1,20,param1=50,param2=30,minRadius=100,maxRadius=0)"
   ]
  },
  {
   "cell_type": "code",
   "execution_count": null,
   "metadata": {},
   "outputs": [],
   "source": [
    "fig, ax = plt.subplots(1)\n",
    "ax.imshow(test_img.T)\n",
    "# for i in range(circles.shape[1]):\n",
    "#     cx = circles[0, i, 0]\n",
    "#     cy = circles[0, i, 1]\n",
    "#     rad = circles[0, i, 2]\n",
    "#     circ = Circle((cy, cx), radius=rad,color='red')\n",
    "#     ax.add_patch(circ)\n"
   ]
  },
  {
   "cell_type": "code",
   "execution_count": null,
   "metadata": {},
   "outputs": [],
   "source": [
    "circles[0,1,1]"
   ]
  },
  {
   "cell_type": "code",
   "execution_count": null,
   "metadata": {},
   "outputs": [],
   "source": [
    "circles = np.uint16(np.around(circles))\n",
    "for i in circles[0,:]:\n",
    "    # draw the outer circle\n",
    "    cv2.circle(img,(i[0],i[1]),i[2],(0,255,0),2)\n",
    "    # draw the center of the circle\n",
    "    cv2.circle(img,(i[0],i[1]),2,(0,0,255),3)\n",
    "\n",
    "cv2.imshow('detected circles',cimg)\n",
    "cv2.waitKey(0)\n",
    "cv2.destroyAllWindows()"
   ]
  },
  {
   "cell_type": "code",
   "execution_count": null,
   "metadata": {},
   "outputs": [],
   "source": [
    "im2 = cv2.medianBlur(img,5)"
   ]
  },
  {
   "cell_type": "code",
   "execution_count": null,
   "metadata": {},
   "outputs": [],
   "source": [
    "plt.imshow(mask.T)"
   ]
  },
  {
   "cell_type": "code",
   "execution_count": null,
   "metadata": {},
   "outputs": [],
   "source": [
    "type(mask)"
   ]
  },
  {
   "cell_type": "code",
   "execution_count": null,
   "metadata": {},
   "outputs": [],
   "source": [
    "speed=1\n",
    "direction = 1\n",
    "axis = 1\n",
    "binary_speed = '{0:06b}'.format(speed)\n",
    "binary_speed = str(direction) + str(1) + binary_speed\n",
    "number = int(binary_speed, 2)\n",
    "bytestring = number.to_bytes(1, 'big')\n",
    "print(ard.driver.query(f\"mot{axis}\"))\n",
    "ard.driver.write_raw(bytestring)\n",
    "print(ard.driver.read())"
   ]
  },
  {
   "cell_type": "code",
   "execution_count": null,
   "metadata": {},
   "outputs": [],
   "source": []
  }
 ],
 "metadata": {
  "kernelspec": {
   "display_name": "Python 3",
   "language": "python",
   "name": "python3"
  },
  "language_info": {
   "codemirror_mode": {
    "name": "ipython",
    "version": 3
   },
   "file_extension": ".py",
   "mimetype": "text/x-python",
   "name": "python",
   "nbconvert_exporter": "python",
   "pygments_lexer": "ipython3",
   "version": "3.7.7"
  }
 },
 "nbformat": 4,
 "nbformat_minor": 4
}
