{
 "cells": [
  {
   "cell_type": "code",
   "execution_count": 1,
   "metadata": {},
   "outputs": [],
   "source": [
    "import numpy as np\n",
    "import matplotlib.pyplot as plt\n",
    "import glob\n",
    "import os\n",
    "import matplotlib \n",
    "from time import sleep\n",
    "from multiprocessing import Process\n",
    "from threading import Thread\n",
    "\n",
    "matplotlib.rc('xtick', labelsize=20) \n",
    "matplotlib.rc('ytick', labelsize=20) \n",
    "%matplotlib agg"
   ]
  },
  {
   "cell_type": "code",
   "execution_count": 2,
   "metadata": {},
   "outputs": [],
   "source": [
    "directory = \"D:\\\\Data\\\\Dispertech\\\\\""
   ]
  },
  {
   "cell_type": "code",
   "execution_count": 4,
   "metadata": {},
   "outputs": [],
   "source": [
    "def make_figures(directory, overwrite=False, output=False):\n",
    "    i = 1\n",
    "    for root, dirs, files in os.walk(directory):\n",
    "        if output:\n",
    "            print(f'Entering {root}')\n",
    "        files = glob.glob(os.path.join(root,'*.npy'))\n",
    "        \n",
    "        for f in files:\n",
    "            fig = '.'.join(f.split('.')[:-1])+'.png'\n",
    "            if not os.path.isfile(fig) or overwrite:\n",
    "                try:\n",
    "                    if output:\n",
    "                        print(f'Creating {fig}')\n",
    "                    data = np.load(f)\n",
    "                    figure = plt.figure(figsize=(15,12))\n",
    "                    plt.imshow(data.T)\n",
    "                    plt.savefig(fig)\n",
    "                    plt.close(figure)\n",
    "                    i += 1\n",
    "                except KeyboardInterrupt:\n",
    "                    raise\n",
    "                except Exception as e:                   \n",
    "                    print(e)\n",
    "                if i and i % 500 == 0:\n",
    "                    print(f'Made {i} Figures')\n",
    "                    print(f'Last one was: {fig}')"
   ]
  },
  {
   "cell_type": "code",
   "execution_count": 5,
   "metadata": {},
   "outputs": [],
   "source": [
    "make_figures(directory)"
   ]
  },
  {
   "cell_type": "code",
   "execution_count": null,
   "metadata": {},
   "outputs": [],
   "source": []
  },
  {
   "cell_type": "code",
   "execution_count": null,
   "metadata": {},
   "outputs": [],
   "source": []
  },
  {
   "cell_type": "code",
   "execution_count": null,
   "metadata": {},
   "outputs": [],
   "source": []
  }
 ],
 "metadata": {
  "kernelspec": {
   "display_name": "Python 3",
   "language": "python",
   "name": "python3"
  },
  "language_info": {
   "codemirror_mode": {
    "name": "ipython",
    "version": 3
   },
   "file_extension": ".py",
   "mimetype": "text/x-python",
   "name": "python",
   "nbconvert_exporter": "python",
   "pygments_lexer": "ipython3",
   "version": "3.7.6"
  }
 },
 "nbformat": 4,
 "nbformat_minor": 4
}
