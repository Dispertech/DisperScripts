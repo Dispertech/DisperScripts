{
 "cells": [
  {
   "cell_type": "code",
   "execution_count": 1,
   "metadata": {},
   "outputs": [],
   "source": [
    "import numpy as np\n",
    "import matplotlib.pyplot as plt\n",
    "import glob\n",
    "import os\n",
    "import matplotlib \n",
    "matplotlib.rc('xtick', labelsize=20) \n",
    "matplotlib.rc('ytick', labelsize=20) "
   ]
  },
  {
   "cell_type": "code",
   "execution_count": 9,
   "metadata": {},
   "outputs": [],
   "source": [
    "directory = \"D:\\\\Data\\\\Dispertech\\\\2020-02-25\\\\\"\n",
    "overwrite = False"
   ]
  },
  {
   "cell_type": "code",
   "execution_count": 17,
   "metadata": {},
   "outputs": [
    {
     "name": "stdout",
     "output_type": "stream",
     "text": [
      "Entering to D:\\Data\\Dispertech\\2020-02-25\\\n"
     ]
    }
   ],
   "source": [
    "for root, dirs, files in os.walk(directory):\n",
    "    print(f'Entering to {root}')\n",
    "    files = glob.glob(os.path.join(root,'*.npy'))\n",
    "    for f in files:\n",
    "        data = np.load(f)\n",
    "        plt.figure(figsize=(15,12))\n",
    "        plt.imshow(data.T)\n",
    "        if not os.path.isfile(''.join(f.split('.')[:-1])+'.png') or overwrite:\n",
    "            plt.savefig(''.join(f.split('.')[:-1])+'.png')\n",
    "        plt.close()"
   ]
  },
  {
   "cell_type": "code",
   "execution_count": null,
   "metadata": {},
   "outputs": [],
   "source": []
  },
  {
   "cell_type": "code",
   "execution_count": null,
   "metadata": {},
   "outputs": [],
   "source": []
  }
 ],
 "metadata": {
  "kernelspec": {
   "display_name": "Python 3",
   "language": "python",
   "name": "python3"
  },
  "language_info": {
   "codemirror_mode": {
    "name": "ipython",
    "version": 3
   },
   "file_extension": ".py",
   "mimetype": "text/x-python",
   "name": "python",
   "nbconvert_exporter": "python",
   "pygments_lexer": "ipython3",
   "version": "3.7.6"
  }
 },
 "nbformat": 4,
 "nbformat_minor": 4
}
